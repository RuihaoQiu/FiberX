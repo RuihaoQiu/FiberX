{
 "cells": [
  {
   "cell_type": "code",
   "execution_count": 29,
   "id": "5f81f2fe-6f2d-432b-a2c4-9bf39409121b",
   "metadata": {},
   "outputs": [],
   "source": [
    "import pandas as pd\n",
    "import os"
   ]
  },
  {
   "cell_type": "code",
   "execution_count": 30,
   "id": "7045bbc2-b7de-4a60-a048-a0fcbd7c3a72",
   "metadata": {},
   "outputs": [],
   "source": [
    "folder = \"../时序4.22/\"\n",
    "files = os.listdir(folder)\n",
    "paths = [folder+file for file in files]"
   ]
  },
  {
   "cell_type": "code",
   "execution_count": 31,
   "id": "d96c3622-1f9c-4c66-9291-d145d2b172ce",
   "metadata": {},
   "outputs": [],
   "source": [
    "df_out = pd.DataFrame()\n",
    "df_1 = pd.read_csv(paths[0], on_bad_lines='skip')\n",
    "df_out[\"Wavelength\"] = df_1.Wavelength"
   ]
  },
  {
   "cell_type": "code",
   "execution_count": 32,
   "id": "6eb57947-b0c6-4732-bb22-025a423138ae",
   "metadata": {},
   "outputs": [],
   "source": [
    "for i,p in enumerate(paths):\n",
    "    df = pd.read_csv(p, on_bad_lines='skip')\n",
    "    df_out[f\"Ratio_{i}\"] = df.Ration"
   ]
  },
  {
   "cell_type": "code",
   "execution_count": 34,
   "id": "f57ddc64-626a-450b-8470-aacfe7027800",
   "metadata": {},
   "outputs": [],
   "source": [
    "df_out.to_csv(\"../time_samples.csv\")"
   ]
  },
  {
   "cell_type": "code",
   "execution_count": null,
   "id": "dde7cece-8b01-4a48-a077-1db0b0c23b2f",
   "metadata": {},
   "outputs": [],
   "source": []
  },
  {
   "cell_type": "code",
   "execution_count": null,
   "id": "505d52d3-a71c-4c9f-9b3a-ac212ed0961e",
   "metadata": {},
   "outputs": [],
   "source": []
  },
  {
   "cell_type": "code",
   "execution_count": 44,
   "id": "36b55d89-5dea-41ba-b456-860766045b91",
   "metadata": {},
   "outputs": [],
   "source": [
    "from shapely.geometry import Polygon"
   ]
  },
  {
   "cell_type": "code",
   "execution_count": 35,
   "id": "dc022c34-b548-4aef-a4b7-846112d440f1",
   "metadata": {},
   "outputs": [],
   "source": [
    "x_values=df[\"Wavelength\"].to_list()\n",
    "y_values=df[\"Ration\"].to_list()"
   ]
  },
  {
   "cell_type": "code",
   "execution_count": 36,
   "id": "280a73ba-e6b6-4760-b99b-671e7e212151",
   "metadata": {},
   "outputs": [],
   "source": [
    "def find_minimum(y):\n",
    "    min_index = y.index(min(y))\n",
    "    return min_index"
   ]
  },
  {
   "cell_type": "code",
   "execution_count": 37,
   "id": "ebec36c4-f374-4bf3-9b80-5a8538154c9a",
   "metadata": {},
   "outputs": [],
   "source": [
    "def find_interval(arr, value):\n",
    "    if value < arr[0] or value >= arr[-1]:\n",
    "        return None\n",
    "\n",
    "    low, high = 0, len(arr) - 1\n",
    "    while low <= high:\n",
    "        mid = (low + high) // 2\n",
    "        if arr[mid] <= value < arr[mid + 1]:\n",
    "            return arr[mid]\n",
    "        elif value < arr[mid]:\n",
    "            high = mid - 1\n",
    "        else:\n",
    "            low = mid + 1\n",
    "\n",
    "    return None"
   ]
  },
  {
   "cell_type": "code",
   "execution_count": 41,
   "id": "88ec9994-b233-455f-b9ef-c50d04b97c9d",
   "metadata": {},
   "outputs": [],
   "source": [
    "min_index = find_minimum(y_values)"
   ]
  },
  {
   "cell_type": "code",
   "execution_count": null,
   "id": "c909f6bc-b3ea-4087-a150-2606491989e9",
   "metadata": {},
   "outputs": [],
   "source": [
    "x_"
   ]
  },
  {
   "cell_type": "code",
   "execution_count": 42,
   "id": "8be5ba5f-e818-457b-9b94-e25e6276941f",
   "metadata": {},
   "outputs": [],
   "source": [
    "def find_boundry(x, y, min_idx, diff=50):\n",
    "    x_min = x[min_idx]\n",
    "    xl = find_interval(x[:min_idx], x_min-diff)\n",
    "    xr = find_interval(x[min_idx:], x_min+diff)\n",
    "    il, ir = x.index(xl), x.index(xr)\n",
    "    boundary = list(zip(x[il:ir], y[il:ir]))\n",
    "    polygon = Polygon(boundary)\n",
    "    return polygon.centroid.x, polygon.centroid.y"
   ]
  },
  {
   "cell_type": "code",
   "execution_count": 45,
   "id": "b4b1c16e-64d3-47fb-9433-efdc859b073b",
   "metadata": {},
   "outputs": [
    {
     "data": {
      "text/plain": [
       "(613.0351662233769, 72.9238884779491)"
      ]
     },
     "execution_count": 45,
     "metadata": {},
     "output_type": "execute_result"
    }
   ],
   "source": [
    "find_boundry(x_values, y_values, min_idx=min_index)"
   ]
  },
  {
   "cell_type": "code",
   "execution_count": 105,
   "id": "fef9ff28-8b81-4a13-bc8c-0fe1509addaf",
   "metadata": {},
   "outputs": [],
   "source": [
    "boundary=find_boundry(x_values, y_values, x_values[min_index])"
   ]
  },
  {
   "cell_type": "code",
   "execution_count": 80,
   "id": "37814651-7e44-4673-9fbe-6fcd26af111b",
   "metadata": {},
   "outputs": [],
   "source": [
    "boundary = list(zip(x_bb + [x_bb[-1], x_bb[0]], y_bb+[100, 100]))"
   ]
  },
  {
   "cell_type": "code",
   "execution_count": 106,
   "id": "f615f6f7-d89d-4591-ad20-bec95326ffc5",
   "metadata": {},
   "outputs": [],
   "source": [
    "polygon = Polygon(boundary)"
   ]
  },
  {
   "cell_type": "code",
   "execution_count": 140,
   "id": "01e28ed8-d9f8-4ea8-ad09-7ab964074593",
   "metadata": {},
   "outputs": [],
   "source": [
    "def find_centroid(x, y, diff=50):\n",
    "    min_index = find_minimum(x, y)\n",
    "    left_index = min_index-5*diff\n",
    "    right_index = min_index+5*diff\n",
    "    y_left = y[left_index]\n",
    "    y_low = [y[i] for i in range(left_index, right_index+1000) if y[i]<=y[left_index]]\n",
    "    x_low = x[left_index:left_index+len(y_low)]\n",
    "    y_up = [y[left_index]]*(len(y_low)-1)\n",
    "    boundary = list(zip((x_low + x_low[1:]), (y_low + y_up)))\n",
    "    polygon = Polygon(boundary)\n",
    "    return polygon.centroid.x, polygon.centroid.y"
   ]
  },
  {
   "cell_type": "code",
   "execution_count": 141,
   "id": "1966b040-5abb-4bfb-9be9-089f54b8df8b",
   "metadata": {},
   "outputs": [],
   "source": [
    "boundary = find_centroid(x=x_values, y=y_values, diff=50)"
   ]
  },
  {
   "cell_type": "code",
   "execution_count": null,
   "id": "b399a979-faf2-48fe-8547-ada0b3a398c6",
   "metadata": {},
   "outputs": [],
   "source": []
  },
  {
   "cell_type": "code",
   "execution_count": 146,
   "id": "ae9758ce-d5bf-4121-832f-753eb1bc79e7",
   "metadata": {},
   "outputs": [
    {
     "data": {
      "text/plain": [
       "0.6552849805186817"
      ]
     },
     "execution_count": 146,
     "metadata": {},
     "output_type": "execute_result"
    }
   ],
   "source": [
    "import random\n",
    "random.random()"
   ]
  },
  {
   "cell_type": "code",
   "execution_count": 68,
   "id": "43583e63-d968-4090-96e4-835d23590f98",
   "metadata": {},
   "outputs": [],
   "source": [
    "import matplotlib.pyplot as plt"
   ]
  },
  {
   "cell_type": "code",
   "execution_count": 70,
   "id": "ad759894-e9c8-4e9d-9677-52ad57a078b7",
   "metadata": {},
   "outputs": [],
   "source": [
    "centroid = polygon.centroid"
   ]
  },
  {
   "cell_type": "code",
   "execution_count": 71,
   "id": "ec70e336-b0a9-4039-bd00-c36dbe03f91b",
   "metadata": {},
   "outputs": [
    {
     "data": {
      "text/plain": [
       "(659.1479808581855, 73.97754993648027)"
      ]
     },
     "execution_count": 71,
     "metadata": {},
     "output_type": "execute_result"
    }
   ],
   "source": [
    "centroid.x, centroid.y"
   ]
  },
  {
   "cell_type": "code",
   "execution_count": 72,
   "id": "63d6563b-8eea-435d-b069-3639c3ba790b",
   "metadata": {},
   "outputs": [],
   "source": [
    "from shapely.plotting import plot_polygon"
   ]
  },
  {
   "cell_type": "code",
   "execution_count": 107,
   "id": "628d3f25-acb9-462d-bade-60cf477785ce",
   "metadata": {},
   "outputs": [
    {
     "data": {
      "text/plain": [
       "(<matplotlib.patches.PathPatch at 0x1705e589ea0>,\n",
       " <matplotlib.lines.Line2D at 0x1705e623910>)"
      ]
     },
     "execution_count": 107,
     "metadata": {},
     "output_type": "execute_result"
    },
    {
     "data": {
      "image/png": "[encoded data removed]",
      "text/plain": [
       "<Figure size 640x480 with 1 Axes>"
      ]
     },
     "metadata": {},
     "output_type": "display_data"
    }
   ],
   "source": [
    "plot_polygon(polygon)"
   ]
  },
  {
   "cell_type": "code",
   "execution_count": 108,
   "id": "8b51507e-f22d-464c-9d7a-5012e78afb6c",
   "metadata": {},
   "outputs": [
    {
     "data": {
      "text/plain": [
       "[<matplotlib.lines.Line2D at 0x1705e6338e0>]"
      ]
     },
     "execution_count": 108,
     "metadata": {},
     "output_type": "execute_result"
    },
    {
     "data": {
      "image/png": "[encoded data removed]",
      "text/plain": [
       "<Figure size 640x480 with 1 Axes>"
      ]
     },
     "metadata": {},
     "output_type": "display_data"
    }
   ],
   "source": [
    "x, y = np.array(boundary).T\n",
    "polygon = Polygon(boundary)\n",
    "centroid = polygon.centroid\n",
    "\n",
    "fig, ax = plt.subplots()\n",
    "\n",
    "plt.plot(x,y, \".\")\n",
    "plt.plot(centroid.x, centroid.y, 'o')"
   ]
  },
  {
   "cell_type": "code",
   "execution_count": 109,
   "id": "db5917d1-93f6-4cc2-b37f-9972fb753462",
   "metadata": {},
   "outputs": [
    {
     "data": {
      "text/plain": [
       "(613.2425636360507, 72.38951940038147)"
      ]
     },
     "execution_count": 109,
     "metadata": {},
     "output_type": "execute_result"
    }
   ],
   "source": [
    "centroid.x, centroid.y"
   ]
  },
  {
   "cell_type": "code",
   "execution_count": 22,
   "id": "cfeca7cf-59ac-4b80-8465-dff7aa20d35f",
   "metadata": {},
   "outputs": [],
   "source": [
    "[for i in range(min_index, len(y_values))]"
   ]
  },
  {
   "cell_type": "code",
   "execution_count": 26,
   "id": "4268729b-67f5-4100-9077-05ba745e7489",
   "metadata": {},
   "outputs": [
    {
     "data": {
      "text/plain": [
       "(507.345, 0.81381966375869)"
      ]
     },
     "execution_count": 26,
     "metadata": {},
     "output_type": "execute_result"
    }
   ],
   "source": [
    "x_values[min_index-500], y_values[min_index-500]"
   ]
  },
  {
   "cell_type": "code",
   "execution_count": 28,
   "id": "cec5038f-e855-44f6-a359-cf0b05d94b1e",
   "metadata": {},
   "outputs": [],
   "source": [
    "df_sub = df[df[\"Ratio\"]< y_values[min_index-500]]"
   ]
  },
  {
   "cell_type": "code",
   "execution_count": 29,
   "id": "2aedd0dc-aceb-4aed-a526-2a9aaaf5aad5",
   "metadata": {},
   "outputs": [
    {
     "data": {
      "text/html": [
       "<div>\n",
       "<style scoped>\n",
       "    .dataframe tbody tr th:only-of-type {\n",
       "        vertical-align: middle;\n",
       "    }\n",
       "\n",
       "    .dataframe tbody tr th {\n",
       "        vertical-align: top;\n",
       "    }\n",
       "\n",
       "    .dataframe thead th {\n",
       "        text-align: right;\n",
       "    }\n",
       "</style>\n",
       "<table border=\"1\" class=\"dataframe\">\n",
       "  <thead>\n",
       "    <tr style=\"text-align: right;\">\n",
       "      <th></th>\n",
       "      <th>Wavelength</th>\n",
       "      <th>Reference</th>\n",
       "      <th>detection</th>\n",
       "      <th>Ratio</th>\n",
       "    </tr>\n",
       "  </thead>\n",
       "  <tbody>\n",
       "    <tr>\n",
       "      <th>642</th>\n",
       "      <td>507.532</td>\n",
       "      <td>9637.40</td>\n",
       "      <td>7838.47</td>\n",
       "      <td>0.813339</td>\n",
       "    </tr>\n",
       "    <tr>\n",
       "      <th>643</th>\n",
       "      <td>507.718</td>\n",
       "      <td>9680.66</td>\n",
       "      <td>7868.99</td>\n",
       "      <td>0.812857</td>\n",
       "    </tr>\n",
       "    <tr>\n",
       "      <th>644</th>\n",
       "      <td>507.905</td>\n",
       "      <td>9724.09</td>\n",
       "      <td>7899.58</td>\n",
       "      <td>0.812372</td>\n",
       "    </tr>\n",
       "    <tr>\n",
       "      <th>645</th>\n",
       "      <td>508.092</td>\n",
       "      <td>9767.69</td>\n",
       "      <td>7930.26</td>\n",
       "      <td>0.811887</td>\n",
       "    </tr>\n",
       "    <tr>\n",
       "      <th>646</th>\n",
       "      <td>508.278</td>\n",
       "      <td>9811.45</td>\n",
       "      <td>7961.01</td>\n",
       "      <td>0.811400</td>\n",
       "    </tr>\n",
       "    <tr>\n",
       "      <th>...</th>\n",
       "      <td>...</td>\n",
       "      <td>...</td>\n",
       "      <td>...</td>\n",
       "      <td>...</td>\n",
       "    </tr>\n",
       "    <tr>\n",
       "      <th>1750</th>\n",
       "      <td>710.332</td>\n",
       "      <td>59752.20</td>\n",
       "      <td>48582.10</td>\n",
       "      <td>0.813060</td>\n",
       "    </tr>\n",
       "    <tr>\n",
       "      <th>1751</th>\n",
       "      <td>710.511</td>\n",
       "      <td>59745.60</td>\n",
       "      <td>48587.90</td>\n",
       "      <td>0.813246</td>\n",
       "    </tr>\n",
       "    <tr>\n",
       "      <th>1752</th>\n",
       "      <td>710.690</td>\n",
       "      <td>59738.90</td>\n",
       "      <td>48593.40</td>\n",
       "      <td>0.813430</td>\n",
       "    </tr>\n",
       "    <tr>\n",
       "      <th>1753</th>\n",
       "      <td>710.869</td>\n",
       "      <td>59731.90</td>\n",
       "      <td>48598.70</td>\n",
       "      <td>0.813614</td>\n",
       "    </tr>\n",
       "    <tr>\n",
       "      <th>1754</th>\n",
       "      <td>711.048</td>\n",
       "      <td>59724.70</td>\n",
       "      <td>48603.80</td>\n",
       "      <td>0.813797</td>\n",
       "    </tr>\n",
       "  </tbody>\n",
       "</table>\n",
       "<p>1113 rows × 4 columns</p>\n",
       "</div>"
      ],
      "text/plain": [
       "      Wavelength  Reference  detection     Ratio\n",
       "642      507.532    9637.40    7838.47  0.813339\n",
       "643      507.718    9680.66    7868.99  0.812857\n",
       "644      507.905    9724.09    7899.58  0.812372\n",
       "645      508.092    9767.69    7930.26  0.811887\n",
       "646      508.278    9811.45    7961.01  0.811400\n",
       "...          ...        ...        ...       ...\n",
       "1750     710.332   59752.20   48582.10  0.813060\n",
       "1751     710.511   59745.60   48587.90  0.813246\n",
       "1752     710.690   59738.90   48593.40  0.813430\n",
       "1753     710.869   59731.90   48598.70  0.813614\n",
       "1754     711.048   59724.70   48603.80  0.813797\n",
       "\n",
       "[1113 rows x 4 columns]"
      ]
     },
     "execution_count": 29,
     "metadata": {},
     "output_type": "execute_result"
    }
   ],
   "source": [
    "df_sub"
   ]
  },
  {
   "cell_type": "code",
   "execution_count": 42,
   "id": "4df533a7-489c-4d66-aa32-f7465cbd6e07",
   "metadata": {},
   "outputs": [
    {
     "data": {
      "text/plain": [
       "<zip at 0x17b97f88280>"
      ]
     },
     "execution_count": 42,
     "metadata": {},
     "output_type": "execute_result"
    }
   ],
   "source": [
    "zip(df_sub[[\"Wavelength\",\"Ratio\"]].values)"
   ]
  },
  {
   "cell_type": "code",
   "execution_count": 46,
   "id": "025e1116-ac58-4c87-97ed-8e3bcb76d93d",
   "metadata": {},
   "outputs": [],
   "source": [
    "bottom_line = list(zip(df_sub[\"Wavelength\"],df_sub[\"Ratio\"]))"
   ]
  },
  {
   "cell_type": "code",
   "execution_count": 49,
   "id": "4f01dd4a-db91-4b27-be8a-3a11c97097ea",
   "metadata": {},
   "outputs": [],
   "source": [
    "top_line = list(zip(df_sub[\"Wavelength\"].iloc[1:],[df_sub[\"Ratio\"].iloc[1]]*(len(df_sub)-1)))"
   ]
  },
  {
   "cell_type": "code",
   "execution_count": 51,
   "id": "7940ceed-6a23-44f7-add8-9719eeebf44b",
   "metadata": {},
   "outputs": [],
   "source": [
    "boundary = bottom_line + top_line"
   ]
  },
  {
   "cell_type": "code",
   "execution_count": 62,
   "id": "e1802f35-6577-460e-b89e-2f59ecc4fa2e",
   "metadata": {},
   "outputs": [],
   "source": []
  },
  {
   "cell_type": "code",
   "execution_count": 62,
   "id": "7059f642-b748-47ba-8b12-bae2d3b31676",
   "metadata": {},
   "outputs": [],
   "source": []
  },
  {
   "cell_type": "code",
   "execution_count": 54,
   "id": "724bcd4a-86f9-4ec8-b083-481d5cffef86",
   "metadata": {},
   "outputs": [],
   "source": [
    "# Create a Polygon object\n",
    "polygon = Polygon(boundary)\n",
    "\n",
    "# Calculate the centroid\n",
    "centroid = polygon.centroid"
   ]
  },
  {
   "cell_type": "code",
   "execution_count": 56,
   "id": "65c484c1-2532-4b2b-add6-274fed9e5e9b",
   "metadata": {},
   "outputs": [
    {
     "data": {
      "text/plain": [
       "(601.3867476394266, 0.7292554670136135)"
      ]
     },
     "execution_count": 56,
     "metadata": {},
     "output_type": "execute_result"
    }
   ],
   "source": [
    "centroid.x, centroid.y"
   ]
  },
  {
   "cell_type": "code",
   "execution_count": 20,
   "id": "0a2bd6ec-a112-4b9e-9713-e621eef08b49",
   "metadata": {},
   "outputs": [],
   "source": [
    "x_min, y_min = find_minimum(x_values, y_values)\n",
    "x_left = x_min - 50"
   ]
  },
  {
   "cell_type": "code",
   "execution_count": 21,
   "id": "5cd1bbc4-7d14-4b7d-a389-94b27851639b",
   "metadata": {},
   "outputs": [
    {
     "ename": "ValueError",
     "evalue": "549.897 is not in list",
     "output_type": "error",
     "traceback": [
      "\u001b[1;31m---------------------------------------------------------------------------\u001b[0m",
      "\u001b[1;31mValueError\u001b[0m                                Traceback (most recent call last)",
      "Cell \u001b[1;32mIn[21], line 1\u001b[0m\n\u001b[1;32m----> 1\u001b[0m \u001b[43mx_values\u001b[49m\u001b[38;5;241;43m.\u001b[39;49m\u001b[43mindex\u001b[49m\u001b[43m(\u001b[49m\u001b[43mx_left\u001b[49m\u001b[43m)\u001b[49m\n",
      "\u001b[1;31mValueError\u001b[0m: 549.897 is not in list"
     ]
    }
   ],
   "source": [
    "x_values.index(x_left)"
   ]
  },
  {
   "cell_type": "code",
   "execution_count": 66,
   "id": "f6bbb913-686a-43cb-9354-af8c25896694",
   "metadata": {},
   "outputs": [
    {
     "data": {
      "text/plain": [
       "[<matplotlib.lines.Line2D at 0x17b99eb7460>]"
      ]
     },
     "execution_count": 66,
     "metadata": {},
     "output_type": "execute_result"
    },
    {
     "data": {
      "image/png": "[encoded data removed]",
      "text/plain": [
       "<Figure size 640x480 with 1 Axes>"
      ]
     },
     "metadata": {},
     "output_type": "display_data"
    }
   ],
   "source": [
    "import matplotlib.pyplot as plt\n",
    "from shapely.geometry import Polygon\n",
    "from matplotlib.patches import Polygon as MplPolygon\n",
    "from matplotlib.collections import PatchCollection\n",
    "\n",
    "# Define the boundary of the polygon as a list of (x, y) tupl\n",
    "\n",
    "# Create a matplotlib figure and axis\n",
    "fig, ax = plt.subplots()\n",
    "\n",
    "plt.plot(x,y)\n",
    "plt.plot(centroid.x, centroid.y, 'o')"
   ]
  },
  {
   "cell_type": "code",
   "execution_count": 4,
   "id": "6cd6979e-af3a-4e7e-adfc-3b200d2821a0",
   "metadata": {},
   "outputs": [],
   "source": [
    "from openpyxl import load_workbook\n",
    "\n",
    "def get_sheetnames_xlsx(filepath):\n",
    "    wb = load_workbook(filepath, read_only=True, keep_links=False)\n",
    "    return wb.sheetnames"
   ]
  },
  {
   "cell_type": "code",
   "execution_count": 5,
   "id": "bb994fa6-2dbb-4255-bf45-8225b5681c47",
   "metadata": {},
   "outputs": [
    {
     "data": {
      "text/plain": [
       "['实时检测（图1）', '结合解离曲线（图2）', '原始数据']"
      ]
     },
     "execution_count": 5,
     "metadata": {},
     "output_type": "execute_result"
    }
   ],
   "source": [
    "get_sheetnames_xlsx(\"../检测数据.xlsx\")"
   ]
  },
  {
   "cell_type": "code",
   "execution_count": 6,
   "id": "13ba47c9-4e6c-4e90-a415-a61f20577785",
   "metadata": {},
   "outputs": [
    {
     "data": {
      "text/html": [
       "<div>\n",
       "<style scoped>\n",
       "    .dataframe tbody tr th:only-of-type {\n",
       "        vertical-align: middle;\n",
       "    }\n",
       "\n",
       "    .dataframe tbody tr th {\n",
       "        vertical-align: top;\n",
       "    }\n",
       "\n",
       "    .dataframe thead th {\n",
       "        text-align: right;\n",
       "    }\n",
       "</style>\n",
       "<table border=\"1\" class=\"dataframe\">\n",
       "  <thead>\n",
       "    <tr style=\"text-align: right;\">\n",
       "      <th></th>\n",
       "      <th>名称</th>\n",
       "      <th>time</th>\n",
       "      <th>Resonance wavelength</th>\n",
       "    </tr>\n",
       "  </thead>\n",
       "  <tbody>\n",
       "    <tr>\n",
       "      <th>0</th>\n",
       "      <td>单位</td>\n",
       "      <td>min</td>\n",
       "      <td>nm</td>\n",
       "    </tr>\n",
       "    <tr>\n",
       "      <th>1</th>\n",
       "      <td>注释</td>\n",
       "      <td>NaN</td>\n",
       "      <td>NaN</td>\n",
       "    </tr>\n",
       "    <tr>\n",
       "      <th>2</th>\n",
       "      <td>NaN</td>\n",
       "      <td>4.00002</td>\n",
       "      <td>599.138</td>\n",
       "    </tr>\n",
       "    <tr>\n",
       "      <th>3</th>\n",
       "      <td>NaN</td>\n",
       "      <td>4.00038</td>\n",
       "      <td>599.134</td>\n",
       "    </tr>\n",
       "    <tr>\n",
       "      <th>4</th>\n",
       "      <td>NaN</td>\n",
       "      <td>4.00077</td>\n",
       "      <td>599.136</td>\n",
       "    </tr>\n",
       "    <tr>\n",
       "      <th>...</th>\n",
       "      <td>...</td>\n",
       "      <td>...</td>\n",
       "      <td>...</td>\n",
       "    </tr>\n",
       "    <tr>\n",
       "      <th>13039</th>\n",
       "      <td>NaN</td>\n",
       "      <td>56.65035</td>\n",
       "      <td>599.015</td>\n",
       "    </tr>\n",
       "    <tr>\n",
       "      <th>13040</th>\n",
       "      <td>NaN</td>\n",
       "      <td>56.65073</td>\n",
       "      <td>599.019</td>\n",
       "    </tr>\n",
       "    <tr>\n",
       "      <th>13041</th>\n",
       "      <td>NaN</td>\n",
       "      <td>56.6511</td>\n",
       "      <td>599.021</td>\n",
       "    </tr>\n",
       "    <tr>\n",
       "      <th>13042</th>\n",
       "      <td>NaN</td>\n",
       "      <td>56.65148</td>\n",
       "      <td>599.023</td>\n",
       "    </tr>\n",
       "    <tr>\n",
       "      <th>13043</th>\n",
       "      <td>NaN</td>\n",
       "      <td>56.66685</td>\n",
       "      <td>599.022</td>\n",
       "    </tr>\n",
       "  </tbody>\n",
       "</table>\n",
       "<p>13044 rows × 3 columns</p>\n",
       "</div>"
      ],
      "text/plain": [
       "        名称      time Resonance wavelength\n",
       "0       单位       min                   nm\n",
       "1       注释       NaN                  NaN\n",
       "2      NaN   4.00002              599.138\n",
       "3      NaN   4.00038              599.134\n",
       "4      NaN   4.00077              599.136\n",
       "...    ...       ...                  ...\n",
       "13039  NaN  56.65035              599.015\n",
       "13040  NaN  56.65073              599.019\n",
       "13041  NaN   56.6511              599.021\n",
       "13042  NaN  56.65148              599.023\n",
       "13043  NaN  56.66685              599.022\n",
       "\n",
       "[13044 rows x 3 columns]"
      ]
     },
     "execution_count": 6,
     "metadata": {},
     "output_type": "execute_result"
    }
   ],
   "source": [
    "df"
   ]
  },
  {
   "cell_type": "code",
   "execution_count": 3,
   "id": "9c8de700-4bf9-40d8-b294-bc2dcba0a808",
   "metadata": {},
   "outputs": [],
   "source": [
    "from scipy.ndimage import gaussian_filter1d\n",
    "import pandas as pd"
   ]
  },
  {
   "cell_type": "code",
   "execution_count": 4,
   "id": "68c3d9e2-ab67-4cd3-9904-99ccc68d0755",
   "metadata": {},
   "outputs": [],
   "source": [
    "df = pd.read_csv(\"../data/bright/bright-240422-143844.csv\")"
   ]
  },
  {
   "cell_type": "code",
   "execution_count": 28,
   "id": "9accd2e6-61f9-4506-9983-ddf93501b097",
   "metadata": {},
   "outputs": [],
   "source": [
    "df = pd.read_csv(\"../data/dark/dark-240422-143813.csv\")"
   ]
  },
  {
   "cell_type": "code",
   "execution_count": 29,
   "id": "7b441741-604a-408f-8cf3-b06caa2d93ee",
   "metadata": {},
   "outputs": [],
   "source": [
    "df[\"smooth\"]=gaussian_filter1d(df.intensity, sigma=100)"
   ]
  },
  {
   "cell_type": "code",
   "execution_count": 5,
   "id": "29452858-53a9-4b40-8a5c-d35849a296bc",
   "metadata": {},
   "outputs": [
    {
     "data": {
      "text/plain": [
       "array([777.91450832, 777.91847594, 777.92640273, ..., 691.51946606,\n",
       "       691.51059273, 691.50614342])"
      ]
     },
     "execution_count": 5,
     "metadata": {},
     "output_type": "execute_result"
    }
   ],
   "source": [
    "gaussian_filter1d(df.intensity, sigma=100)"
   ]
  },
  {
   "cell_type": "code",
   "execution_count": 30,
   "id": "d86c1798-706e-4ba1-b855-992ffde61c0d",
   "metadata": {},
   "outputs": [
    {
     "data": {
      "text/plain": [
       "<Axes: >"
      ]
     },
     "execution_count": 30,
     "metadata": {},
     "output_type": "execute_result"
    },
    {
     "data": {
      "image/png": "[encoded data removed]",
      "text/plain": [
       "<Figure size 640x480 with 1 Axes>"
      ]
     },
     "metadata": {},
     "output_type": "display_data"
    }
   ],
   "source": [
    "df.plot(y=[\"smooth\"])"
   ]
  },
  {
   "cell_type": "code",
   "execution_count": 1,
   "id": "f17021f4-b1a6-4742-9465-7e9ae0d5a8ea",
   "metadata": {},
   "outputs": [],
   "source": [
    "import numpy as np\n",
    "y = (np.array([1,2,3]) - np.array([2,3,4]))/np.array([1,2,3])"
   ]
  },
  {
   "cell_type": "code",
   "execution_count": 3,
   "id": "c0317dd4-95e0-458e-be96-f7082ab64c5f",
   "metadata": {},
   "outputs": [
    {
     "data": {
      "text/plain": [
       "0"
      ]
     },
     "execution_count": 3,
     "metadata": {},
     "output_type": "execute_result"
    }
   ],
   "source": [
    "np.argmin(y)"
   ]
  },
  {
   "cell_type": "code",
   "execution_count": 4,
   "id": "bafd7a14-e7e2-41cb-84f1-3030762c709d",
   "metadata": {},
   "outputs": [],
   "source": [
    "import matplotlib"
   ]
  },
  {
   "cell_type": "code",
   "execution_count": 5,
   "id": "7da86de9-1c3c-4e87-8b3b-dcf12681ce88",
   "metadata": {},
   "outputs": [
    {
     "data": {
      "text/plain": [
       "'3.8.0'"
      ]
     },
     "execution_count": 5,
     "metadata": {},
     "output_type": "execute_result"
    }
   ],
   "source": [
    "matplotlib.__version__"
   ]
  },
  {
   "cell_type": "code",
   "execution_count": 6,
   "id": "1e9ad3cc-4087-4beb-b62d-45736344cdd9",
   "metadata": {},
   "outputs": [
    {
     "data": {
      "image/png": "[encoded data removed]",
      "text/plain": [
       "<Figure size 640x480 with 1 Axes>"
      ]
     },
     "metadata": {},
     "output_type": "display_data"
    }
   ],
   "source": [
    "from matplotlib.widgets import RectangleSelector\n",
    "import matplotlib.pyplot as plt\n",
    "\n",
    "# Function to be executed after selection\n",
    "def onselect_function(eclick, erelease):\n",
    "\n",
    "\t# Obtain (xmin, xmax, ymin, ymax) values\n",
    "\t# for rectangle selector box using extent attribute.\n",
    "\textent = rect_selector.extents\n",
    "\tprint(\"Extents: \", extent)\n",
    "\n",
    "\t# Zoom the selected part\n",
    "\t# Set xlim range for plot as xmin to xmax\n",
    "\t# of rectangle selector box.\n",
    "\tplt.xlim(extent[0], extent[1])\n",
    "\t\n",
    "\t# Set ylim range for plot as ymin to ymax\n",
    "\t# of rectangle selector box.\n",
    "\tplt.ylim(extent[2], extent[3])\n",
    "\n",
    "# plot a line graph for data n\n",
    "fig, ax = plt.subplots()\n",
    "n = [4, 5, 6, 10, 12, 15, 20, 23, 24, 19]\n",
    "ax.plot(n)\n",
    "\n",
    "# Define a RectangleSelector at given axes ax.\n",
    "# It calls a function named 'onselect_function'\n",
    "# when the selection is completed.\n",
    "# Rectangular box is drawn to show the selected region.\n",
    "# Only left mouse button is allowed for doing selection.\n",
    "rect_selector = RectangleSelector(ax, onselect_function, button=[1])\n",
    "\n",
    "# Display graph\n",
    "plt.show()\n"
   ]
  },
  {
   "cell_type": "code",
   "execution_count": null,
   "id": "b08bb34d-476d-4bc8-b54d-ad97b295e1e4",
   "metadata": {},
   "outputs": [],
   "source": []
  }
 ],
 "metadata": {
  "kernelspec": {
   "display_name": "Python 3 (ipykernel)",
   "language": "python",
   "name": "python3"
  },
  "language_info": {
   "codemirror_mode": {
    "name": "ipython",
    "version": 3
   },
   "file_extension": ".py",
   "mimetype": "text/x-python",
   "name": "python",
   "nbconvert_exporter": "python",
   "pygments_lexer": "ipython3",
   "version": "3.10.14"
  }
 },
 "nbformat": 4,
 "nbformat_minor": 5
}
